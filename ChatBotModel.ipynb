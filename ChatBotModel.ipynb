{
 "cells": [
  {
   "cell_type": "code",
   "execution_count": 2,
   "metadata": {},
   "outputs": [],
   "source": [
    "import telegram\n",
    "from telegram.ext import Updater, CommandHandler\n",
    "\n",
    "class TelegramBot:\n",
    "    def __init__(self, name, token):\n",
    "        self.core = telegram.Bot(token)\n",
    "        self.updater = Updater(token)\n",
    "        self.id = 571675744\n",
    "        self.name = name\n",
    "\n",
    "    def sendMessage(self, text):\n",
    "        self.core.sendMessage(chat_id = self.id, text=text)\n",
    "\n",
    "    def stop(self):\n",
    "        self.updater.start_polling()\n",
    "        self.updater.dispatcher.stop()\n",
    "        self.updater.job_queue.stop()\n",
    "        self.updater.stop()"
   ]
  },
  {
   "cell_type": "code",
   "execution_count": 5,
   "metadata": {},
   "outputs": [],
   "source": [
    "class Bot2ndBUS (TelegramBot):\n",
    "    def __init__(self):\n",
    "        self.token = '472813594:AAGpKj5sn4gkATwB19oHHnsjcKmZb0EJ5S4'\n",
    "        TelegramBot.__init__(self, '2ndBUS', self.token)\n",
    "        self.updater.stop()\n",
    "\n",
    "    def add_handler(self, cmd, func):\n",
    "        self.updater.dispatcher.add_handler(CommandHandler(cmd, func))\n",
    "\n",
    "    def start(self):\n",
    "        self.sendMessage('2ndBUS RUN.')\n",
    "        self.updater.start_polling()\n",
    "        self.updater.idle()"
   ]
  }
 ],
 "metadata": {
  "kernelspec": {
   "display_name": "Python 3",
   "language": "python",
   "name": "python3"
  },
  "language_info": {
   "codemirror_mode": {
    "name": "ipython",
    "version": 3
   },
   "file_extension": ".py",
   "mimetype": "text/x-python",
   "name": "python",
   "nbconvert_exporter": "python",
   "pygments_lexer": "ipython3",
   "version": "3.6.4"
  }
 },
 "nbformat": 4,
 "nbformat_minor": 2
}
