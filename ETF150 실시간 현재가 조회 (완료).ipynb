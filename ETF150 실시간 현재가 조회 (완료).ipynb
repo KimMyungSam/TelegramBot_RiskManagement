{
 "cells": [
  {
   "cell_type": "code",
   "execution_count": 1,
   "metadata": {},
   "outputs": [
    {
     "name": "stdout",
     "output_type": "stream",
     "text": [
      "통신상태 0 0027 조회가 완료되었습니다.(stock.new.mst)\n",
      "코드 이름 시간 현재가 대비 시가 고가 저가 매도호가 매수호가 거래량 거래대금\n",
      "A233740 KODEX 코스닥150 1559 20655 105 20510 20920 20450 20665 20655 5132115 10640625\n"
     ]
    }
   ],
   "source": [
    "import win32com.client\n",
    "\n",
    "# 연결 여부 체크\n",
    "objCpCybos = win32com.client.Dispatch(\"CpUtil.CpCybos\")\n",
    "bConnect = objCpCybos.IsConnect\n",
    "if (bConnect == 0):\n",
    "    print(\"PLUS가 정상적으로 연결되지 않음. \")\n",
    "    exit()\n",
    " \n",
    "# 현재가 객체 구하기\n",
    "objStockMst = win32com.client.Dispatch(\"DsCbo1.StockMst\")\n",
    "objStockMst.SetInputValue(0, 'A233740')   #종목 코드 - 코스닥150 레버리지\n",
    "objStockMst.BlockRequest()\n",
    " \n",
    "# 현재가 통신 및 통신 에러 처리 \n",
    "rqStatus = objStockMst.GetDibStatus()\n",
    "rqRet = objStockMst.GetDibMsg1()\n",
    "print(\"통신상태\", rqStatus, rqRet)\n",
    "if rqStatus != 0:\n",
    "    exit()\n",
    " \n",
    "# 현재가 정보 조회\n",
    "code = objStockMst.GetHeaderValue(0)  #종목코드\n",
    "name= objStockMst.GetHeaderValue(1)  # 종목명\n",
    "time= objStockMst.GetHeaderValue(4)  # 시간\n",
    "cprice= objStockMst.GetHeaderValue(11) # 종가\n",
    "diff= objStockMst.GetHeaderValue(12)  # 대비\n",
    "open= objStockMst.GetHeaderValue(13)  # 시가\n",
    "high= objStockMst.GetHeaderValue(14)  # 고가\n",
    "low= objStockMst.GetHeaderValue(15)   # 저가\n",
    "offer = objStockMst.GetHeaderValue(16)  #매도호가\n",
    "bid = objStockMst.GetHeaderValue(17)   #매수호가\n",
    "vol= objStockMst.GetHeaderValue(18)   #거래량\n",
    "vol_value= objStockMst.GetHeaderValue(19)  #거래대금\n",
    " \n",
    "print(\"코드 이름 시간 현재가 대비 시가 고가 저가 매도호가 매수호가 거래량 거래대금\")\n",
    "print(code, name, time, cprice, diff, open, high, low, offer, bid, vol, vol_value)"
   ]
  }
 ],
 "metadata": {
  "kernelspec": {
   "display_name": "Python 3",
   "language": "python",
   "name": "python3"
  },
  "language_info": {
   "codemirror_mode": {
    "name": "ipython",
    "version": 3
   },
   "file_extension": ".py",
   "mimetype": "text/x-python",
   "name": "python",
   "nbconvert_exporter": "python",
   "pygments_lexer": "ipython3",
   "version": "3.6.4"
  }
 },
 "nbformat": 4,
 "nbformat_minor": 2
}
