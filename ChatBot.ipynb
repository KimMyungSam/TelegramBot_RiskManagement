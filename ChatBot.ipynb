{
 "cells": [
  {
   "cell_type": "code",
   "execution_count": null,
   "metadata": {},
   "outputs": [],
   "source": [
    "import sys\n",
    "import ChatBotModel\n",
    "\n",
    "def proc_RM(bot, update):\n",
    "    BUS.sendMessage('Risk Management')\n",
    "    sound = firecracker()\n",
    "    BUS.sendMessage(sound)\n",
    "\n",
    "def proc_stop(bot, update):\n",
    "    BUS.sendMessage('BUS STOP.')\n",
    "    BUS.stop()\n",
    "\n",
    "def firecracker():\n",
    "    return 'Good Luck'\n",
    "\n",
    "BUS = ChatBotModel.Bot2ndBUS()\n",
    "BUS.add_handler('RM', proc_RM)\n",
    "BUS.add_handler('stop', proc_stop)\n",
    "BUS.start()"
   ]
  },
  {
   "cell_type": "code",
   "execution_count": null,
   "metadata": {},
   "outputs": [],
   "source": []
  }
 ],
 "metadata": {
  "kernelspec": {
   "display_name": "Python 3",
   "language": "python",
   "name": "python3"
  },
  "language_info": {
   "codemirror_mode": {
    "name": "ipython",
    "version": 3
   },
   "file_extension": ".py",
   "mimetype": "text/x-python",
   "name": "python",
   "nbconvert_exporter": "python",
   "pygments_lexer": "ipython3",
   "version": "3.6.4"
  }
 },
 "nbformat": 4,
 "nbformat_minor": 2
}
