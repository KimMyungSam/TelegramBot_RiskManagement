{
 "cells": [
  {
   "cell_type": "code",
   "execution_count": 1,
   "metadata": {},
   "outputs": [],
   "source": [
    "import time\n",
    "import telepot\n",
    "from telepot.loop import MessageLoop"
   ]
  },
  {
   "cell_type": "code",
   "execution_count": 2,
   "metadata": {},
   "outputs": [],
   "source": [
    "token = \"472813594:AAGpKj5sn4gkATwB19oHHnsjcKmZb0EJ5S4\"\n",
    "bot = telepot.Bot(token)"
   ]
  },
  {
   "cell_type": "code",
   "execution_count": 7,
   "metadata": {},
   "outputs": [
    {
     "data": {
      "text/plain": [
       "{'first_name': 'SecondChance',\n",
       " 'id': 472813594,\n",
       " 'is_bot': True,\n",
       " 'username': 'Secondbus2bot'}"
      ]
     },
     "execution_count": 7,
     "metadata": {},
     "output_type": "execute_result"
    }
   ],
   "source": [
    "bot.getMe()"
   ]
  },
  {
   "cell_type": "code",
   "execution_count": 3,
   "metadata": {},
   "outputs": [],
   "source": [
    "def sendMessage(self, chat_id, text, parse_mode=None, disable_web_page_preview=None,disable_notification=None,reply_to_message_id=None,reply_markup=None):\n",
    "    \"\"\"See:https://core.telegram.org/bots/api#sendmessage\"\"\"\n",
    "    p = _strip(locals())\n",
    "    return self._api_request('sendMessage',_rectify(P))"
   ]
  },
  {
   "cell_type": "code",
   "execution_count": 10,
   "metadata": {},
   "outputs": [],
   "source": [
    "# response = bot.getUpdates()\n",
    "# response[0]['message']['from']['id']"
   ]
  },
  {
   "cell_type": "code",
   "execution_count": 13,
   "metadata": {},
   "outputs": [
    {
     "data": {
      "text/plain": [
       "{'chat': {'first_name': 'MyungSam',\n",
       "  'id': 571675744,\n",
       "  'last_name': 'Kim',\n",
       "  'type': 'private'},\n",
       " 'date': 1527462758,\n",
       " 'from': {'first_name': 'SecondChance',\n",
       "  'id': 472813594,\n",
       "  'is_bot': True,\n",
       "  'username': 'Secondbus2bot'},\n",
       " 'message_id': 78,\n",
       " 'text': 'hi'}"
      ]
     },
     "execution_count": 13,
     "metadata": {},
     "output_type": "execute_result"
    }
   ],
   "source": [
    "id = 571675744\n",
    "bot.sendMessage(id, \"hi\")"
   ]
  },
  {
   "cell_type": "code",
   "execution_count": null,
   "metadata": {},
   "outputs": [],
   "source": []
  }
 ],
 "metadata": {
  "kernelspec": {
   "display_name": "Python 3",
   "language": "python",
   "name": "python3"
  },
  "language_info": {
   "codemirror_mode": {
    "name": "ipython",
    "version": 3
   },
   "file_extension": ".py",
   "mimetype": "text/x-python",
   "name": "python",
   "nbconvert_exporter": "python",
   "pygments_lexer": "ipython3",
   "version": "3.6.4"
  }
 },
 "nbformat": 4,
 "nbformat_minor": 2
}
